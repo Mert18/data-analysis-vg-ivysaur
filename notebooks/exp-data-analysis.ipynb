{
 "cells": [
  {
   "cell_type": "markdown",
   "metadata": {},
   "source": [
    "# Video Game Sales Data Analysis - Team Ivysaur\n",
    "## Members:\n",
    "### Mert Uyğur, Umut Can Demirkaynak, Muhammed Murat Göktaş"
   ]
  },
  {
   "cell_type": "markdown",
   "metadata": {},
   "source": [
    "***"
   ]
  },
  {
   "cell_type": "markdown",
   "metadata": {},
   "source": [
    "## Importing necessary libraries and data"
   ]
  },
  {
   "cell_type": "code",
   "execution_count": 1,
   "metadata": {},
   "outputs": [],
   "source": [
    "import sys\n",
    "sys.path.append('../src')\n",
    "import pandas as pd\n",
    "import numpy as np\n",
    "import matplotlib.pyplot as plt\n",
    "%matplotlib inline\n",
    "import seaborn as sns\n",
    "from sklearn.model_selection import train_test_split\n",
    "from sklearn.preprocessing import MinMaxScaler\n",
    "\n",
    "\n",
    "from vgs.config import vgsales"
   ]
  },
  {
   "cell_type": "markdown",
   "metadata": {},
   "source": [
    " ***"
   ]
  },
  {
   "cell_type": "markdown",
   "metadata": {},
   "source": [
    "## Overview and Some Data Cleaning "
   ]
  },
  {
   "cell_type": "code",
   "execution_count": 2,
   "metadata": {},
   "outputs": [
    {
     "data": {
      "text/plain": [
       "Rank              int64\n",
       "Name             object\n",
       "Platform         object\n",
       "Year            float64\n",
       "Genre            object\n",
       "Publisher        object\n",
       "NA_Sales        float64\n",
       "EU_Sales        float64\n",
       "JP_Sales        float64\n",
       "Other_Sales     float64\n",
       "Global_Sales    float64\n",
       "dtype: object"
      ]
     },
     "execution_count": 2,
     "metadata": {},
     "output_type": "execute_result"
    }
   ],
   "source": [
    "vgsales.dtypes"
   ]
  },
  {
   "cell_type": "markdown",
   "metadata": {},
   "source": [
    "#### Dropping Rank columns which serves nothing"
   ]
  },
  {
   "cell_type": "code",
   "execution_count": 3,
   "metadata": {},
   "outputs": [],
   "source": [
    "vgsales.drop(columns=\"Rank\",inplace=True)"
   ]
  },
  {
   "cell_type": "code",
   "execution_count": 4,
   "metadata": {},
   "outputs": [
    {
     "data": {
      "text/plain": [
       "True"
      ]
     },
     "execution_count": 4,
     "metadata": {},
     "output_type": "execute_result"
    }
   ],
   "source": [
    "vgsales.isnull().values.any()"
   ]
  },
  {
   "cell_type": "markdown",
   "metadata": {},
   "source": [
    "#### Detecting how many missing values and which"
   ]
  },
  {
   "cell_type": "code",
   "execution_count": 5,
   "metadata": {
    "scrolled": false
   },
   "outputs": [
    {
     "data": {
      "text/plain": [
       "Year         271\n",
       "Publisher     58\n",
       "dtype: int64"
      ]
     },
     "execution_count": 5,
     "metadata": {},
     "output_type": "execute_result"
    }
   ],
   "source": [
    "null_columns = vgsales.columns[vgsales.isnull().any()]\n",
    "vgsales[null_columns].isnull().sum()"
   ]
  },
  {
   "cell_type": "markdown",
   "metadata": {},
   "source": [
    " #### Dropping null values since it is not much and will not effect our "
   ]
  },
  {
   "cell_type": "code",
   "execution_count": 6,
   "metadata": {
    "scrolled": true
   },
   "outputs": [],
   "source": [
    "vgsales = vgsales.dropna()"
   ]
  },
  {
   "cell_type": "code",
   "execution_count": 7,
   "metadata": {},
   "outputs": [
    {
     "data": {
      "text/html": [
       "<div>\n",
       "<style scoped>\n",
       "    .dataframe tbody tr th:only-of-type {\n",
       "        vertical-align: middle;\n",
       "    }\n",
       "\n",
       "    .dataframe tbody tr th {\n",
       "        vertical-align: top;\n",
       "    }\n",
       "\n",
       "    .dataframe thead th {\n",
       "        text-align: right;\n",
       "    }\n",
       "</style>\n",
       "<table border=\"1\" class=\"dataframe\">\n",
       "  <thead>\n",
       "    <tr style=\"text-align: right;\">\n",
       "      <th></th>\n",
       "      <th>Name</th>\n",
       "      <th>Platform</th>\n",
       "      <th>Year</th>\n",
       "      <th>Genre</th>\n",
       "      <th>Publisher</th>\n",
       "      <th>NA_Sales</th>\n",
       "      <th>EU_Sales</th>\n",
       "      <th>JP_Sales</th>\n",
       "      <th>Other_Sales</th>\n",
       "      <th>Global_Sales</th>\n",
       "    </tr>\n",
       "  </thead>\n",
       "  <tbody>\n",
       "    <tr>\n",
       "      <th>0</th>\n",
       "      <td>Wii Sports</td>\n",
       "      <td>Wii</td>\n",
       "      <td>2006.0</td>\n",
       "      <td>Sports</td>\n",
       "      <td>Nintendo</td>\n",
       "      <td>41.49</td>\n",
       "      <td>29.02</td>\n",
       "      <td>3.77</td>\n",
       "      <td>8.46</td>\n",
       "      <td>82.74</td>\n",
       "    </tr>\n",
       "    <tr>\n",
       "      <th>1</th>\n",
       "      <td>Super Mario Bros.</td>\n",
       "      <td>NES</td>\n",
       "      <td>1985.0</td>\n",
       "      <td>Platform</td>\n",
       "      <td>Nintendo</td>\n",
       "      <td>29.08</td>\n",
       "      <td>3.58</td>\n",
       "      <td>6.81</td>\n",
       "      <td>0.77</td>\n",
       "      <td>40.24</td>\n",
       "    </tr>\n",
       "    <tr>\n",
       "      <th>2</th>\n",
       "      <td>Mario Kart Wii</td>\n",
       "      <td>Wii</td>\n",
       "      <td>2008.0</td>\n",
       "      <td>Racing</td>\n",
       "      <td>Nintendo</td>\n",
       "      <td>15.85</td>\n",
       "      <td>12.88</td>\n",
       "      <td>3.79</td>\n",
       "      <td>3.31</td>\n",
       "      <td>35.82</td>\n",
       "    </tr>\n",
       "    <tr>\n",
       "      <th>3</th>\n",
       "      <td>Wii Sports Resort</td>\n",
       "      <td>Wii</td>\n",
       "      <td>2009.0</td>\n",
       "      <td>Sports</td>\n",
       "      <td>Nintendo</td>\n",
       "      <td>15.75</td>\n",
       "      <td>11.01</td>\n",
       "      <td>3.28</td>\n",
       "      <td>2.96</td>\n",
       "      <td>33.00</td>\n",
       "    </tr>\n",
       "    <tr>\n",
       "      <th>4</th>\n",
       "      <td>Pokemon Red/Pokemon Blue</td>\n",
       "      <td>GB</td>\n",
       "      <td>1996.0</td>\n",
       "      <td>Role-Playing</td>\n",
       "      <td>Nintendo</td>\n",
       "      <td>11.27</td>\n",
       "      <td>8.89</td>\n",
       "      <td>10.22</td>\n",
       "      <td>1.00</td>\n",
       "      <td>31.37</td>\n",
       "    </tr>\n",
       "  </tbody>\n",
       "</table>\n",
       "</div>"
      ],
      "text/plain": [
       "                       Name Platform    Year         Genre Publisher  \\\n",
       "0                Wii Sports      Wii  2006.0        Sports  Nintendo   \n",
       "1         Super Mario Bros.      NES  1985.0      Platform  Nintendo   \n",
       "2            Mario Kart Wii      Wii  2008.0        Racing  Nintendo   \n",
       "3         Wii Sports Resort      Wii  2009.0        Sports  Nintendo   \n",
       "4  Pokemon Red/Pokemon Blue       GB  1996.0  Role-Playing  Nintendo   \n",
       "\n",
       "   NA_Sales  EU_Sales  JP_Sales  Other_Sales  Global_Sales  \n",
       "0     41.49     29.02      3.77         8.46         82.74  \n",
       "1     29.08      3.58      6.81         0.77         40.24  \n",
       "2     15.85     12.88      3.79         3.31         35.82  \n",
       "3     15.75     11.01      3.28         2.96         33.00  \n",
       "4     11.27      8.89     10.22         1.00         31.37  "
      ]
     },
     "execution_count": 7,
     "metadata": {},
     "output_type": "execute_result"
    }
   ],
   "source": [
    "vgsales.head()"
   ]
  },
  {
   "cell_type": "markdown",
   "metadata": {},
   "source": [
    "### There was an incomplete value of game in 2020 distracting our dataset, we removed values after year 2017."
   ]
  },
  {
   "cell_type": "code",
   "execution_count": 8,
   "metadata": {},
   "outputs": [],
   "source": [
    "vgsales = vgsales[vgsales[\"Year\"]<2017.0]"
   ]
  },
  {
   "cell_type": "code",
   "execution_count": 9,
   "metadata": {},
   "outputs": [
    {
     "data": {
      "text/plain": [
       "(16287, 10)"
      ]
     },
     "execution_count": 9,
     "metadata": {},
     "output_type": "execute_result"
    }
   ],
   "source": [
    "vgsales.shape"
   ]
  },
  {
   "cell_type": "markdown",
   "metadata": {},
   "source": [
    " ***\n",
    "# Explotary Data Analysis"
   ]
  },
  {
   "cell_type": "markdown",
   "metadata": {},
   "source": [
    "***"
   ]
  },
  {
   "cell_type": "markdown",
   "metadata": {},
   "source": [
    "### Platforms"
   ]
  },
  {
   "cell_type": "markdown",
   "metadata": {},
   "source": [
    "#### How many different platforms?"
   ]
  },
  {
   "cell_type": "code",
   "execution_count": 10,
   "metadata": {},
   "outputs": [
    {
     "data": {
      "text/plain": [
       "31"
      ]
     },
     "execution_count": 10,
     "metadata": {},
     "output_type": "execute_result"
    }
   ],
   "source": [
    "vgsales['Platform'].nunique()"
   ]
  },
  {
   "cell_type": "markdown",
   "metadata": {},
   "source": [
    "#### The amount of games the platforms released between 1980-2016 "
   ]
  },
  {
   "cell_type": "code",
   "execution_count": 11,
   "metadata": {
    "scrolled": false
   },
   "outputs": [
    {
     "data": {
      "image/png": "[encoded data removed]",
      "text/plain": [
       "<Figure size 432x288 with 1 Axes>"
      ]
     },
     "metadata": {
      "needs_background": "light"
     },
     "output_type": "display_data"
    }
   ],
   "source": [
    "vgsales['Platform'].value_counts()[:8].plot(kind=\"barh\");"
   ]
  },
  {
   "cell_type": "markdown",
   "metadata": {},
   "source": [
    "<img src=\"files/ds.jpg\">"
   ]
  },
  {
   "cell_type": "markdown",
   "metadata": {},
   "source": [
    "#### Platforms that have the most global sales amount also by region"
   ]
  },
  {
   "cell_type": "code",
   "execution_count": 12,
   "metadata": {},
   "outputs": [
    {
     "data": {
      "image/png": "[encoded data removed]",
      "text/plain": [
       "<Figure size 432x288 with 1 Axes>"
      ]
     },
     "metadata": {
      "needs_background": "light"
     },
     "output_type": "display_data"
    }
   ],
   "source": [
    "plt.bar(data=vgsales.head(20), x='Platform', height='Global_Sales', color = 'magenta')\n",
    "plt.xticks(rotation=45)\n",
    "plt.xlabel('Platforms')\n",
    "plt.ylabel('Global Sales')\n",
    "plt.title('Most successful platforms in Global')\n",
    "plt.show()"
   ]
  },
  {
   "cell_type": "code",
   "execution_count": 13,
   "metadata": {},
   "outputs": [
    {
     "data": {
      "image/png": "[encoded data removed]",
      "text/plain": [
       "<Figure size 432x288 with 1 Axes>"
      ]
     },
     "metadata": {
      "needs_background": "light"
     },
     "output_type": "display_data"
    }
   ],
   "source": [
    "plt.bar(data=vgsales.head(20), x='Platform', height='NA_Sales', color = 'red')\n",
    "plt.xticks(rotation=45)\n",
    "plt.xlabel('Platforms')\n",
    "plt.ylabel('North America Sales')\n",
    "plt.title('Most successful platforms in North America')\n",
    "plt.show()"
   ]
  },
  {
   "cell_type": "code",
   "execution_count": 14,
   "metadata": {},
   "outputs": [
    {
     "data": {
      "image/png": "[encoded data removed]",
      "text/plain": [
       "<Figure size 432x288 with 1 Axes>"
      ]
     },
     "metadata": {
      "needs_background": "light"
     },
     "output_type": "display_data"
    }
   ],
   "source": [
    "plt.bar(data=vgsales.head(20), x='Platform', height='EU_Sales', color = 'blue')\n",
    "plt.xticks(rotation=45)\n",
    "plt.xlabel('Platforms')\n",
    "plt.ylabel('Europe Sales')\n",
    "plt.title('Most successful platforms in Europe')\n",
    "plt.show()"
   ]
  },
  {
   "cell_type": "code",
   "execution_count": 15,
   "metadata": {
    "scrolled": true
   },
   "outputs": [
    {
     "data": {
      "image/png": "[encoded data removed]",
      "text/plain": [
       "<Figure size 432x288 with 1 Axes>"
      ]
     },
     "metadata": {
      "needs_background": "light"
     },
     "output_type": "display_data"
    }
   ],
   "source": [
    "plt.bar(data=vgsales.head(20), x='Platform', height='JP_Sales', color = 'orange')\n",
    "plt.xticks(rotation=45)\n",
    "plt.xlabel('Platforms')\n",
    "plt.ylabel('Japan')\n",
    "plt.title('Most successful platforms in Japan')\n",
    "plt.show()"
   ]
  },
  {
   "cell_type": "code",
   "execution_count": 16,
   "metadata": {},
   "outputs": [
    {
     "data": {
      "image/png": "[encoded data removed]",
      "text/plain": [
       "<Figure size 432x288 with 1 Axes>"
      ]
     },
     "metadata": {
      "needs_background": "light"
     },
     "output_type": "display_data"
    }
   ],
   "source": [
    "plt.bar(data=vgsales.head(20), x='Platform', height='Other_Sales', color = 'cyan')\n",
    "plt.xticks(rotation=45)\n",
    "plt.xlabel('Platforms')\n",
    "plt.ylabel('Other')\n",
    "plt.title('Most successful platforms in Other countries')\n",
    "plt.show()"
   ]
  },
  {
   "cell_type": "markdown",
   "metadata": {},
   "source": [
    "### Games"
   ]
  },
  {
   "cell_type": "code",
   "execution_count": 17,
   "metadata": {},
   "outputs": [
    {
     "data": {
      "text/plain": [
       "11322"
      ]
     },
     "execution_count": 17,
     "metadata": {},
     "output_type": "execute_result"
    }
   ],
   "source": [
    "vgsales['Name'].nunique()"
   ]
  },
  {
   "cell_type": "code",
   "execution_count": 18,
   "metadata": {},
   "outputs": [
    {
     "data": {
      "image/png": "[encoded data removed]",
      "text/plain": [
       "<Figure size 432x288 with 1 Axes>"
      ]
     },
     "metadata": {
      "needs_background": "light"
     },
     "output_type": "display_data"
    }
   ],
   "source": [
    "height = vgsales['Global_Sales'][:5]\n",
    "bars = vgsales['Name'][:5]\n",
    "plt.bar(bars, height, color='magenta')\n",
    "plt.subplots_adjust(left=-0.7, bottom=0.1, right=0.9, top=0.8)\n",
    "# Custom Axis title\n",
    "plt.xlabel('Games', fontweight='bold', color = 'magenta', fontsize='17', horizontalalignment='center');\n",
    "plt.ylabel('Global_Sales in mn', fontweight='bold', color='magenta', fontsize='17');"
   ]
  },
  {
   "cell_type": "code",
   "execution_count": 19,
   "metadata": {
    "scrolled": true
   },
   "outputs": [
    {
     "data": {
      "image/png": "[encoded data removed]",
      "text/plain": [
       "<Figure size 432x288 with 1 Axes>"
      ]
     },
     "metadata": {
      "needs_background": "light"
     },
     "output_type": "display_data"
    }
   ],
   "source": [
    "height = vgsales['NA_Sales'][:5]\n",
    "bars = vgsales['Name'][:5]\n",
    "plt.bar(bars, height, color='red')\n",
    "plt.subplots_adjust(left=-0.7, bottom=0.1, right=0.9, top=0.8)\n",
    "# Custom Axis title\n",
    "plt.xlabel('Games', fontweight='bold', color = 'red', fontsize='17', horizontalalignment='center');\n",
    "plt.ylabel('NA Sales in mn', fontweight='bold', color='red', fontsize='17');"
   ]
  },
  {
   "cell_type": "code",
   "execution_count": 20,
   "metadata": {},
   "outputs": [
    {
     "data": {
      "image/png": "[encoded data removed]",
      "text/plain": [
       "<Figure size 432x288 with 1 Axes>"
      ]
     },
     "metadata": {
      "needs_background": "light"
     },
     "output_type": "display_data"
    }
   ],
   "source": [
    "height = vgsales['EU_Sales'][:5]\n",
    "bars = vgsales['Name'][:5]\n",
    "plt.bar(bars, height, color='blue')\n",
    "plt.subplots_adjust(left=-0.7, bottom=0.1, right=0.9, top=0.8)\n",
    "# Custom Axis title\n",
    "plt.xlabel('Games', fontweight='bold', color = 'blue', fontsize='17', horizontalalignment='center');\n",
    "plt.ylabel('Europe Sales in mn', fontweight='bold', color='blue', fontsize='17');"
   ]
  },
  {
   "cell_type": "code",
   "execution_count": 21,
   "metadata": {},
   "outputs": [
    {
     "data": {
      "image/png": "[encoded data removed]",
      "text/plain": [
       "<Figure size 432x288 with 1 Axes>"
      ]
     },
     "metadata": {
      "needs_background": "light"
     },
     "output_type": "display_data"
    }
   ],
   "source": [
    "height = vgsales['JP_Sales'][:5]\n",
    "bars = vgsales['Name'][:5]\n",
    "plt.bar(bars, height, color='orange')\n",
    "plt.subplots_adjust(left=-0.7, bottom=0.1, right=0.9, top=0.8)\n",
    "# Custom Axis title\n",
    "plt.xlabel('Games', fontweight='bold', color = 'orange', fontsize='17', horizontalalignment='center');\n",
    "plt.ylabel('Japan Sales in mn', fontweight='bold', color='orange', fontsize='17');"
   ]
  },
  {
   "cell_type": "markdown",
   "metadata": {},
   "source": [
    "### Time"
   ]
  },
  {
   "cell_type": "markdown",
   "metadata": {},
   "source": [
    "#### How many games recorded in which year?"
   ]
  },
  {
   "cell_type": "code",
   "execution_count": 22,
   "metadata": {},
   "outputs": [
    {
     "data": {
      "image/png": "[encoded data removed]",
      "text/plain": [
       "<Figure size 1440x720 with 1 Axes>"
      ]
     },
     "metadata": {},
     "output_type": "display_data"
    }
   ],
   "source": [
    "data_thrty = vgsales[vgsales.Year >1990]\n",
    "\n",
    "# We will be inspecting the games released after 1990 in this dataset.\n",
    "\n",
    "sns.set(rc={\"font.style\":\"normal\",\n",
    "            \"text.color\":\"black\",\n",
    "            \"xtick.color\":\"black\",\n",
    "            \"ytick.color\":\"black\",\n",
    "            \"axes.labelcolor\":\"black\",\n",
    "            \"axes.grid\":False,\n",
    "            'axes.labelsize':20,\n",
    "            'figure.figsize':(20.0, 10.0),\n",
    "            'xtick.labelsize':20,\n",
    "            'ytick.labelsize':30})\n",
    "\n",
    "sns.set_theme(style=\"darkgrid\")\n",
    "ax = sns.countplot(x=\"Year\", data=data_thrty)\n"
   ]
  },
  {
   "cell_type": "code",
   "execution_count": null,
   "metadata": {},
   "outputs": [],
   "source": []
  },
  {
   "cell_type": "code",
   "execution_count": null,
   "metadata": {},
   "outputs": [],
   "source": []
  },
  {
   "cell_type": "code",
   "execution_count": null,
   "metadata": {},
   "outputs": [],
   "source": []
  },
  {
   "cell_type": "code",
   "execution_count": null,
   "metadata": {},
   "outputs": [],
   "source": []
  },
  {
   "cell_type": "code",
   "execution_count": null,
   "metadata": {},
   "outputs": [],
   "source": []
  },
  {
   "cell_type": "code",
   "execution_count": null,
   "metadata": {},
   "outputs": [],
   "source": []
  },
  {
   "cell_type": "code",
   "execution_count": null,
   "metadata": {},
   "outputs": [],
   "source": []
  },
  {
   "cell_type": "code",
   "execution_count": null,
   "metadata": {},
   "outputs": [],
   "source": []
  },
  {
   "cell_type": "code",
   "execution_count": null,
   "metadata": {},
   "outputs": [],
   "source": []
  },
  {
   "cell_type": "code",
   "execution_count": null,
   "metadata": {},
   "outputs": [],
   "source": []
  },
  {
   "cell_type": "code",
   "execution_count": 23,
   "metadata": {},
   "outputs": [
    {
     "ename": "NameError",
     "evalue": "name 'dataset' is not defined",
     "output_type": "error",
     "traceback": [
      "\u001b[0;31m---------------------------------------------------------------------------\u001b[0m",
      "\u001b[0;31mNameError\u001b[0m                                 Traceback (most recent call last)",
      "\u001b[0;32m<ipython-input-23-3d773500adba>\u001b[0m in \u001b[0;36m<module>\u001b[0;34m\u001b[0m\n\u001b[1;32m      1\u001b[0m \u001b[0;31m## Pie GENRE\u001b[0m\u001b[0;34m\u001b[0m\u001b[0;34m\u001b[0m\u001b[0;34m\u001b[0m\u001b[0m\n\u001b[1;32m      2\u001b[0m \u001b[0;34m\u001b[0m\u001b[0m\n\u001b[0;32m----> 3\u001b[0;31m \u001b[0ma\u001b[0m\u001b[0;34m=\u001b[0m\u001b[0mdataset\u001b[0m\u001b[0;34m.\u001b[0m\u001b[0mGenre\u001b[0m\u001b[0;34m.\u001b[0m\u001b[0mvalue_counts\u001b[0m\u001b[0;34m(\u001b[0m\u001b[0;34m)\u001b[0m\u001b[0;34m[\u001b[0m\u001b[0;36m0\u001b[0m\u001b[0;34m:\u001b[0m\u001b[0;36m6\u001b[0m\u001b[0;34m]\u001b[0m\u001b[0;34m\u001b[0m\u001b[0;34m\u001b[0m\u001b[0m\n\u001b[0m\u001b[1;32m      4\u001b[0m \u001b[0msizes\u001b[0m\u001b[0;34m=\u001b[0m\u001b[0ma\u001b[0m\u001b[0;34m.\u001b[0m\u001b[0mvalues\u001b[0m\u001b[0;34m\u001b[0m\u001b[0;34m\u001b[0m\u001b[0m\n\u001b[1;32m      5\u001b[0m \u001b[0mlabels\u001b[0m\u001b[0;34m=\u001b[0m\u001b[0ma\u001b[0m\u001b[0;34m.\u001b[0m\u001b[0mindex\u001b[0m\u001b[0;34m\u001b[0m\u001b[0;34m\u001b[0m\u001b[0m\n",
      "\u001b[0;31mNameError\u001b[0m: name 'dataset' is not defined"
     ]
    }
   ],
   "source": [
    "## Pie GENRE\n",
    "\n",
    "a=dataset.Genre.value_counts()[0:6]\n",
    "sizes=a.values\n",
    "labels=a.index\n",
    "explode=[0,0,0,0,0,0]\n",
    "colors=[\"orange\",\"red\",\"blue\",\"green\",\"yellow\",\"violet\"]\n",
    "plt.figure(figsize=(7,7))\n",
    "plt.pie(sizes,explode=[0.1]*6,labels=labels,colors=colors,autopct='%1.1f%%')\n",
    "plt.title('Genre',color = 'blue',fontsize = 15)"
   ]
  },
  {
   "cell_type": "code",
   "execution_count": null,
   "metadata": {},
   "outputs": [],
   "source": [
    "##Sales\n",
    "\n",
    "data=pd.concat([sorted_data,sorted_data2[\"NA_Sales\"]],axis=1)\n",
    "data.sort_values(\"JP_Sales\",inplace=True)\n",
    "f,ax1=plt.subplots(figsize=(15,10))\n",
    "sns.pointplot(x='platform list',y='JP_Sales',data=data,color='lime',alpha=0.8)\n",
    "sns.pointplot(x='platform list',y='NA_Sales',data=data,color='red',alpha=0.8)\n",
    "plt.text(40,0.6,'Na Sales',color='red',fontsize = 17,style = 'italic')\n",
    "plt.text(40,0.55,'JP Sales',color='lime',fontsize = 18,style = 'italic')\n",
    "plt.xlabel('Platfotm',fontsize = 15,color='blue')\n",
    "plt.ylabel('Sales',fontsize = 15,color='blue')\n",
    "plt.title('JP sales VS  NA Sales',fontsize = 20,color='blue')\n",
    "plt.grid()"
   ]
  },
  {
   "cell_type": "code",
   "execution_count": null,
   "metadata": {},
   "outputs": [],
   "source": [
    "sns.catplot(x='Platform', y='Global_Sales', data=data2, height=4, aspect=3)\n",
    "g = plt.gca()\n",
    "g.set_title('Global Sales per Platform')"
   ]
  },
  {
   "cell_type": "code",
   "execution_count": null,
   "metadata": {},
   "outputs": [],
   "source": [
    "data2 = data2.set_index(data2['year']);\n",
    "\n",
    "sns.catplot(x='Genre', y='Global_Sales', data=data2, height=4, aspect=3)\n",
    "g = plt.gca()\n",
    "g.set_title('Global Sales per Genre')"
   ]
  },
  {
   "cell_type": "code",
   "execution_count": null,
   "metadata": {},
   "outputs": [],
   "source": [
    "#Market Share Publishers \n",
    "\n",
    "All_Sales = dataset[\"Global_Sales\"].sum()\n",
    "Sales_Nintendo = dataset[dataset[\"Publisher\"] == \"Nintendo\"][\"Global_Sales\"].sum() \n",
    "Sales_Nintendo = (Sales_Nintendo / All_Sales) * 100\n",
    "Sales_Electronic_Arts = dataset[dataset[\"Publisher\"] == \"Electronic Arts\"][\"Global_Sales\"].sum() * 100 / All_Sales\n",
    "Sales_Activision = dataset[dataset[\"Publisher\"] == \"Activision\"][\"Global_Sales\"].sum() * 100 / All_Sales\n",
    "Sales_Sony = dataset[dataset[\"Publisher\"] == \"Sony Computer Entertainment\"][\"Global_Sales\"].sum() * 100 / All_Sales\n",
    "Sales_Ubisoft = dataset[dataset[\"Publisher\"] == \"Ubisoft\"][\"Global_Sales\"].sum() * 100 / All_Sales\n",
    "Market_Plot = [Sales_Nintendo, Sales_Electronic_Arts, Sales_Activision, Sales_Sony, Sales_Ubisoft]\n",
    "plt.pie(Market_Plot, labels=['Nintendo: 20%', 'Electronic Arts: 12,4%', 'Activision: 8%', 'Sony: 7%', 'Ubisoft: 5%'])\n",
    "plt.title(\"Market share among the 5 best publishers\")\n",
    "plt.show()"
   ]
  },
  {
   "cell_type": "code",
   "execution_count": null,
   "metadata": {},
   "outputs": [],
   "source": [
    "#Global Sales Evolution \n",
    "\n",
    "Global_Sales_Evolution  = dataset.pivot_table(index = 'Year' ,values = 'Global_Sales',aggfunc = np.sum)\n",
    "sns.lineplot(Global_Sales_Evolution.index, Global_Sales_Evolution['Global_Sales'])\n",
    "\n",
    "#EU Sales Evolution \n",
    "\n",
    "EU_Sales_Evolution  = dataset.pivot_table(index = 'Year' ,values = 'EU_Sales',aggfunc = np.sum)\n",
    "sns.lineplot(EU_Sales_Evolution.index, EU_Sales_Evolution['EU_Sales'])\n",
    "\n",
    "#NA Sales Evolution \n",
    "\n",
    "NA_Sales_Evolution  = dataset.pivot_table(index = 'Year' ,values = 'NA_Sales',aggfunc = np.sum)\n",
    "sns.lineplot(NA_Sales_Evolution.index, NA_Sales_Evolution['NA_Sales'])\n",
    "\n",
    "#JP Sales Evolution \n",
    "\n",
    "JP_Sales_Evolution  = dataset.pivot_table(index = 'Year' ,values = 'JP_Sales',aggfunc = np.sum)\n",
    "sns.lineplot(JP_Sales_Evolution.index, JP_Sales_Evolution['JP_Sales'])\n",
    "\n",
    "#Other Sales Evolution \n",
    "\n",
    "O_Sales_Evolution  = dataset.pivot_table(index = 'Year' ,values = 'Other_Sales',aggfunc = np.sum)\n",
    "sns.lineplot(O_Sales_Evolution.index, O_Sales_Evolution['Other_Sales'])\n",
    "\n",
    "plt.rcParams['figure.figsize'] = (10,10)\n",
    "plt.legend(title='Areas', loc='upper right', labels=['Worldwide', 'Europe', 'North America', 'Japan', 'Others'])\n",
    "plt.title(\"Evolution of Sales (all regions) from 1980 to 2020\")\n",
    "plt.ylabel(\"Sum of Sales\")\n",
    "plt.xlabel(\"Years\")\n",
    "plt.show()"
   ]
  },
  {
   "cell_type": "code",
   "execution_count": null,
   "metadata": {},
   "outputs": [],
   "source": [
    "Games_Count = dataset.groupby('Platform')['Name'].agg('count')\n",
    "Games_Count = Games_Count.sort_values(ascending = False)\n",
    "print(Games_Count)\n",
    "\n",
    "\n",
    "#Most popular genre in the dataset by Sum of Worldwide Sales\n",
    "\n",
    "Grouped_Genre = dataset.pivot_table(values='Global_Sales',index='Genre', aggfunc='sum')\n",
    "print(Grouped_Genre)\n",
    "Grouped_Genre = Grouped_Genre.sort_values(by = 'Global_Sales',ascending  = False)\n",
    "\n",
    "# Plot the data  \n",
    "plt.rcParams['figure.figsize'] = (10,10)\n",
    "sns.barplot(Grouped_Genre['Global_Sales'],Grouped_Genre.index, orient='h')\n",
    "plt.title(\"Most sold genre games in terms of Global sales\")\n",
    "plt.ylabel(\"Genres\")\n",
    "plt.xlabel(\"Sales\")\n",
    "plt.show()"
   ]
  },
  {
   "cell_type": "code",
   "execution_count": null,
   "metadata": {},
   "outputs": [],
   "source": [
    "var5 = data[\"Name\"].value_counts().head(30)\n",
    "The grap show us average global sales in top 30 video games\n",
    "discount = []\n",
    "the_games_list = [i for i in var5.index]\n",
    "\n",
    "for i in the_games_list:\n",
    "    x = data[data[\"Name\"]==i]\n",
    "    discount.append(sum(x.Global_Sales)/len(x))\n",
    "    \n",
    "#sorting to be shown more tidy in graph\n",
    "data2 = pd.DataFrame({\"Name\":the_games_list,\"Global_Sales\":discount})\n",
    "new_index = (data2[\"Global_Sales\"].sort_values(ascending=True)).index.values\n",
    "sorted_data = data2.reindex(new_index)\n",
    "\n",
    "# visualization\n",
    "plt.figure(figsize=(15,10))\n",
    "sns.barplot(x=sorted_data['Name'], y=sorted_data['Global_Sales'])\n",
    "plt.xticks(rotation=90)\n",
    "plt.xlabel('Video Games')\n",
    "plt.ylabel('Avarage Global Sales')\n",
    "plt.title('The Games with Global Sales')\n",
    "plt.grid()"
   ]
  },
  {
   "cell_type": "code",
   "execution_count": null,
   "metadata": {},
   "outputs": [],
   "source": [
    "var3 = data[\"Publisher\"].value_counts().head(20)\n",
    "Average sales for top 20 publisher###\n",
    "publisher_list = [i for i in var3.index]\n",
    "na_sales = []\n",
    "eu_sales = []\n",
    "jp_sales = []\n",
    "other_sales = []\n",
    "global_sales = []\n",
    "\n",
    "for i in publisher_list:\n",
    "    x = data[data[\"Publisher\"]==i] #x is dataframe\n",
    "    na_sales.append(sum(x.NA_Sales)/len(x))\n",
    "    eu_sales.append(sum(x.EU_Sales)/len(x))\n",
    "    jp_sales.append(sum(x.JP_Sales)/len(x))\n",
    "    other_sales.append(sum(x.Other_Sales)/len(x))\n",
    "    global_sales.append(sum(x.Global_Sales)/len(x))\n",
    "\n",
    "# visualization\n",
    "f,ax = plt.subplots(figsize = (9,15))\n",
    "sns.barplot(x=na_sales,y=publisher_list,color='green',alpha = 0.8,label='Nort America' )\n",
    "sns.barplot(x=eu_sales,y=publisher_list,color='red',alpha = 0.7,label='Europa')\n",
    "sns.barplot(x=jp_sales,y=publisher_list,color='cyan',alpha = 0.9,label='Japonia')\n",
    "sns.barplot(x=other_sales,y=publisher_list,color='yellow',alpha = 0.6,label='Other')\n",
    "sns.barplot(x=global_sales,y=publisher_list,color='orange',alpha = 0.6,label='Global')\n",
    "\n",
    "\n",
    "ax.legend(loc='lower right',frameon = True)     # legendlarin gorunurlugu\n",
    "ax.set(xlabel='Percentage of Regions', ylabel='Publisher'\n",
    "       ,title = \"Avarage of Discount's  According to Regions \")\n",
    "plt.show()"
   ]
  },
  {
   "cell_type": "code",
   "execution_count": null,
   "metadata": {},
   "outputs": [],
   "source": [
    "NUMBER OF GAMES PRODUCED IN EACH GENRE\n",
    "\n",
    "plt.figure(figsize=(10,8))\n",
    "sns.countplot(\"Genre\", data=df)\n",
    "plt.show()"
   ]
  },
  {
   "cell_type": "code",
   "execution_count": null,
   "metadata": {},
   "outputs": [],
   "source": [
    "fig = plt.figure(figsize=(15,5))\n",
    "publi = df.Publisher.value_counts().sort_values(ascending=False).iloc[0:10]\n",
    "sns.barplot(publi.values, publi.index,palette=palette_pub_cubehelix,data=df)\n",
    "plt.yticks(fontsize=13)\n",
    "plt.xticks(fontsize=13)\n",
    "plt.title('The 10 publishers with more games sold',fontsize=21);"
   ]
  },
  {
   "cell_type": "code",
   "execution_count": null,
   "metadata": {},
   "outputs": [],
   "source": [
    "plt.figure(dpi=125)\n",
    "sns.countplot(data.head(100)['Genre'])\n",
    "plt.xlabel('Genre Name')\n",
    "plt.xticks(rotation=60)\n",
    "plt.ylabel('Count')\n",
    "plt.title('Best Genre in Top 100 Video Games')\n",
    "plt.show()"
   ]
  },
  {
   "cell_type": "code",
   "execution_count": null,
   "metadata": {},
   "outputs": [],
   "source": [
    "plt.figure(dpi=125)\n",
    "sns.regplot(x=data['NA_Sales'],y=data['Global_Sales'])\n",
    "plt.xlabel('North America Sales')\n",
    "plt.ylabel('Global Sales')\n",
    "plt.title('Relationship between North America Sales and Global Sales')\n",
    "plt.show()"
   ]
  }
 ],
 "metadata": {
  "kernelspec": {
   "display_name": "Python 3",
   "language": "python",
   "name": "python3"
  },
  "language_info": {
   "codemirror_mode": {
    "name": "ipython",
    "version": 3
   },
   "file_extension": ".py",
   "mimetype": "text/x-python",
   "name": "python",
   "nbconvert_exporter": "python",
   "pygments_lexer": "ipython3",
   "version": "3.9.1"
  }
 },
 "nbformat": 4,
 "nbformat_minor": 4
}
